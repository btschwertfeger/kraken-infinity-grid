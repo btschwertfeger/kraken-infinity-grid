{
 "cells": [
  {
   "cell_type": "code",
   "execution_count": 1,
   "id": "acbb1d13",
   "metadata": {},
   "outputs": [],
   "source": [
    "from backtesting import Backtest"
   ]
  },
  {
   "cell_type": "code",
   "execution_count": 3,
   "id": "6afb7110",
   "metadata": {},
   "outputs": [],
   "source": [
    "bt = Backtest(\n",
    "    strategy_config={\n",
    "        \"strategy\": \"GridHODL\",\n",
    "        \"userref\": 1,\n",
    "        \"name\": \"Backtester\",\n",
    "        \"interval\": 0.02,\n",
    "        \"amount_per_grid\": 10,\n",
    "        \"max_investment\": 1000,\n",
    "        \"n_open_buy_orders\": 5,\n",
    "        \"base_currency\": \"BTC\",\n",
    "        \"quote_currency\": \"EUR\",\n",
    "    },\n",
    "    db_config={\"sqlite_file\": \":memory:\"},\n",
    "    kraken_config={\n",
    "        \"balances\": {\n",
    "            \"BTC\": {\"balance\": \"100.0\", \"hold_trade\": \"0.0\"},\n",
    "            \"USD\": {\"balance\": \"1000000.0\", \"hold_trade\": \"0.0\"},\n",
    "        },\n",
    "        \"fee\": 0.0026,  # 0.26%\n",
    "    },\n",
    ")"
   ]
  },
  {
   "cell_type": "code",
   "execution_count": 4,
   "id": "de6fcd79",
   "metadata": {},
   "outputs": [],
   "source": [
    "await bt.instance.on_message(\n",
    "    {\n",
    "        \"channel\": \"executions\",\n",
    "        \"type\": \"snapshot\",\n",
    "        \"data\": [{\"exec_type\": \"canceled\", \"order_id\": \"txid0\"}],\n",
    "    },\n",
    ")"
   ]
  },
  {
   "cell_type": "code",
   "execution_count": null,
   "id": "a483f34f",
   "metadata": {},
   "outputs": [],
   "source": []
  }
 ],
 "metadata": {
  "kernelspec": {
   "display_name": "kraken-infinity-grid",
   "language": "python",
   "name": "kraken-infinity-grid"
  },
  "language_info": {
   "codemirror_mode": {
    "name": "ipython",
    "version": 3
   },
   "file_extension": ".py",
   "mimetype": "text/x-python",
   "name": "python",
   "nbconvert_exporter": "python",
   "pygments_lexer": "ipython3",
   "version": "3.11.9"
  }
 },
 "nbformat": 4,
 "nbformat_minor": 5
}
